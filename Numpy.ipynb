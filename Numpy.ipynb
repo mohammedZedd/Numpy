{
 "cells": [
  {
   "cell_type": "markdown",
   "id": "57c6345c",
   "metadata": {},
   "source": [
    "# Python Crash Course (Numpy for data analysis)\n",
    "\n",
    "Audience: M2 Data & IA.\n",
    "Chapter 1 - Introduction to Machine learning.\n",
    "Section 2: Numpy for data analysis.\n",
    "\n",
    "This notebook will just go through the basic topics in order:\n",
    "\n",
    "* Arrays Indexing, Slicing.\n",
    "* Arrays Shapes, Operations."
   ]
  },
  {
   "cell_type": "markdown",
   "id": "defabfe9",
   "metadata": {},
   "source": [
    "## What is NumPy?\n",
    "\n",
    "NumPy is a Python library used for working with arrays.\n",
    "\n",
    "It also has functions for working in domain of <b> linear algebra </b>, fourier transform, and matrices.\n",
    "\n",
    "NumPy stands for Numerical Python.\n",
    "\n",
    "1. Numpy is fast ! uses bindings to C/C++ libraries (up to 50x faster than traditional Python lists).\n",
    "2. The array object in NumPy is called ndarray.\n",
    "3. Code base can be found at https://github.com/numpy/numpy "
   ]
  },
  {
   "cell_type": "markdown",
   "id": "e7feb632",
   "metadata": {},
   "source": [
    "## Installation\n",
    "\n",
    "1. Using anaconda prompt/python terminal: pip install numpy or conda install numpy\n",
    "2. using %pip or %conda magic: %pip install numpy\n",
    "3. Google Colab !pip install numpy"
   ]
  },
  {
   "cell_type": "markdown",
   "id": "12ac8fc9",
   "metadata": {},
   "source": [
    "## Importing\n",
    "\n",
    "Use the following improt convention"
   ]
  },
  {
   "cell_type": "code",
   "execution_count": 4,
   "id": "792e3e4c",
   "metadata": {},
   "outputs": [],
   "source": [
    "import numpy as np"
   ]
  },
  {
   "cell_type": "markdown",
   "id": "e2201ac4",
   "metadata": {},
   "source": [
    "## Arrays\n",
    "\n",
    "\n",
    "NumPy is used to work with arrays. The array object in NumPy is called ndarray.\n",
    "\n",
    "We can create a NumPy ndarray object by using the array() function.\n",
    "\n",
    "Numpy arrays essentially come in two flavors: <b>vectors and matrices</b>. \n",
    "\n",
    "1. Vectors are strictly 1-d arrays \n",
    "2. Matrices are 2-d (but you should note a matrix can still have only one row or one column).\n"
   ]
  },
  {
   "cell_type": "code",
   "execution_count": 1,
   "id": "77d529a7",
   "metadata": {},
   "outputs": [
    {
     "data": {
      "text/html": [
       "<img src=\"https://miro.medium.com/max/817/0*y04Nh3L0aSwyGaby.png\"/>"
      ],
      "text/plain": [
       "<IPython.core.display.Image object>"
      ]
     },
     "execution_count": 1,
     "metadata": {},
     "output_type": "execute_result"
    }
   ],
   "source": [
    "from IPython.display import Image\n",
    "from IPython.core.display import HTML \n",
    "Image(url= \"https://miro.medium.com/max/817/0*y04Nh3L0aSwyGaby.png\")"
   ]
  },
  {
   "cell_type": "code",
   "execution_count": null,
   "id": "651dd3c0",
   "metadata": {},
   "outputs": [],
   "source": [
    "# Create a NumPy ndarray Object using np.array.\n",
    "\n",
    "numpy_array = np.array([1, 2, 3, 4, 5])"
   ]
  },
  {
   "cell_type": "code",
   "execution_count": null,
   "id": "f61b9baa",
   "metadata": {},
   "outputs": [],
   "source": [
    "print(numpy_array)"
   ]
  },
  {
   "cell_type": "code",
   "execution_count": null,
   "id": "81e7d6d1",
   "metadata": {},
   "outputs": [],
   "source": [
    "# From a Python List we can create an array by directly converting a list or list of lists:\n",
    "py_list = [1, 2, 3, 4, 5]\n",
    "print(py_list)"
   ]
  },
  {
   "cell_type": "code",
   "execution_count": null,
   "id": "5d091c45",
   "metadata": {},
   "outputs": [],
   "source": [
    "np_list_from_py_list = np.array(py_list)\n",
    "print(np_list_from_py_list)"
   ]
  },
  {
   "cell_type": "markdown",
   "id": "22a140b2",
   "metadata": {},
   "source": [
    "1. Each value in an array is a 0-D, or Scalar.\n",
    "2. An array that has 0-D arrays as its elements is called uni-dimensional or 1-D array."
   ]
  },
  {
   "cell_type": "markdown",
   "id": "1e3be6e5",
   "metadata": {},
   "source": [
    "### 2-D Arrays\n",
    "\n",
    "An array that has 1-D arrays as its elements is called a 2-D array.\n",
    "These are often used to represent matrix or 2nd order tensors."
   ]
  },
  {
   "cell_type": "code",
   "execution_count": null,
   "id": "798e47ff",
   "metadata": {},
   "outputs": [],
   "source": [
    "# Create a 2-D array containing two arrays with the values 1,2,3 and 4,5,6\n",
    "\n",
    "two_dim_arr = np.array([[1, 2, 3], [4, 5, 6]])\n",
    "print(two_dim_arr)"
   ]
  },
  {
   "cell_type": "markdown",
   "id": "a8b574ca",
   "metadata": {},
   "source": [
    "### 3-D Arrays\n",
    "\n",
    "An array that has 2-D arrays (matrices) as its elements is called 3-D array.\n",
    "These are often used to represent a 3rd order tensor."
   ]
  },
  {
   "cell_type": "code",
   "execution_count": null,
   "id": "80d7d08f",
   "metadata": {},
   "outputs": [],
   "source": [
    "# Create a 3-D array with two 2-D arrays, both containing two arrays with the values 1,2,3 and 4,5,6\n",
    "\n",
    "three_dim_arr = np.array([[[1, 2, 3], [4, 5, 6]], [[1, 2, 3], [4, 5, 6]]])\n",
    "print(three_dim_arr)"
   ]
  },
  {
   "cell_type": "markdown",
   "id": "8603f07f",
   "metadata": {},
   "source": [
    "### Check Number of Dimensions?\n",
    "\n",
    "NumPy Arrays provides the <b>ndim</b> attribute that returns an integer that tells us how many dimensions the array have."
   ]
  },
  {
   "cell_type": "code",
   "execution_count": 1,
   "id": "6c907159",
   "metadata": {},
   "outputs": [
    {
     "ename": "NameError",
     "evalue": "name 'np' is not defined",
     "output_type": "error",
     "traceback": [
      "\u001b[1;31m---------------------------------------------------------------------------\u001b[0m",
      "\u001b[1;31mNameError\u001b[0m                                 Traceback (most recent call last)",
      "Cell \u001b[1;32mIn [1], line 2\u001b[0m\n\u001b[0;32m      1\u001b[0m \u001b[38;5;66;03m# how many dimentions are here.\u001b[39;00m\n\u001b[1;32m----> 2\u001b[0m a \u001b[38;5;241m=\u001b[39m \u001b[43mnp\u001b[49m\u001b[38;5;241m.\u001b[39marray([[\u001b[38;5;241m1\u001b[39m,\u001b[38;5;241m2\u001b[39m,\u001b[38;5;241m3\u001b[39m],[\u001b[38;5;241m4\u001b[39m,\u001b[38;5;241m5\u001b[39m,\u001b[38;5;241m6\u001b[39m],[\u001b[38;5;241m7\u001b[39m,\u001b[38;5;241m8\u001b[39m,\u001b[38;5;241m9\u001b[39m]])\n",
      "\u001b[1;31mNameError\u001b[0m: name 'np' is not defined"
     ]
    }
   ],
   "source": [
    "# how many dimentions are here.\n",
    "a = np.array([[1,2,3],[4,5,6],[7,8,9]])"
   ]
  },
  {
   "cell_type": "code",
   "execution_count": null,
   "id": "54ef389a",
   "metadata": {},
   "outputs": [],
   "source": [
    "e = np.array(42)\n",
    "b = np.array([1, 2, 3, 4, 5])\n",
    "c = np.array([[1, 2, 3], [4, 5, 6]])\n",
    "d = np.array([[[1, 2, 3], [4, 5, 6]], [[1, 2, 3], [4, 5, 6]]])"
   ]
  },
  {
   "cell_type": "code",
   "execution_count": 2,
   "id": "1f4af5a7",
   "metadata": {},
   "outputs": [
    {
     "ename": "NameError",
     "evalue": "name 'e' is not defined",
     "output_type": "error",
     "traceback": [
      "\u001b[1;31m---------------------------------------------------------------------------\u001b[0m",
      "\u001b[1;31mNameError\u001b[0m                                 Traceback (most recent call last)",
      "Cell \u001b[1;32mIn [2], line 1\u001b[0m\n\u001b[1;32m----> 1\u001b[0m \u001b[38;5;28mprint\u001b[39m(\u001b[43me\u001b[49m\u001b[38;5;241m.\u001b[39mndim)\n\u001b[0;32m      2\u001b[0m \u001b[38;5;28mprint\u001b[39m(b\u001b[38;5;241m.\u001b[39mndim)\n\u001b[0;32m      3\u001b[0m \u001b[38;5;28mprint\u001b[39m(c\u001b[38;5;241m.\u001b[39mndim)\n",
      "\u001b[1;31mNameError\u001b[0m: name 'e' is not defined"
     ]
    }
   ],
   "source": [
    "print(e.ndim)\n",
    "print(b.ndim)\n",
    "print(c.ndim)\n",
    "print(d.ndim)"
   ]
  },
  {
   "cell_type": "markdown",
   "id": "125185e4",
   "metadata": {},
   "source": [
    "### Array Slicing.\n",
    "\n",
    "Slicing in python means taking elements from one given index to another given index."
   ]
  },
  {
   "cell_type": "markdown",
   "id": "64a95935",
   "metadata": {},
   "source": [
    "\n",
    "We pass slice instead of index like this: [start:end].\n",
    "\n",
    "We can also define the step, like this: [start:end:step].\n"
   ]
  },
  {
   "cell_type": "markdown",
   "id": "313c0bdd",
   "metadata": {},
   "source": [
    "1. If we don't pass start, its considered 0\n",
    "\n",
    "2. If we don't pass end, its considered length of array in that dimension\n",
    "\n",
    "3. If we don't pass step, its considered 1\n",
    "\n",
    "4. Use the step value to determine the step of the slicing."
   ]
  },
  {
   "cell_type": "code",
   "execution_count": null,
   "id": "61022d51",
   "metadata": {},
   "outputs": [],
   "source": [
    "slice_arr = np.array([1, 2, 3, 4, 5, 6, 7])"
   ]
  },
  {
   "cell_type": "code",
   "execution_count": null,
   "id": "5bc0c356",
   "metadata": {},
   "outputs": [],
   "source": [
    "# Slice elements from index 1 to index 5 from the following array. \n",
    "# Tip: We start at 0.\n",
    "print(slice_arr[1:5])"
   ]
  },
  {
   "cell_type": "code",
   "execution_count": null,
   "id": "25f85173",
   "metadata": {},
   "outputs": [],
   "source": [
    "# Slice elements from index 4 to the end of the array:"
   ]
  },
  {
   "cell_type": "code",
   "execution_count": null,
   "id": "2175ae91",
   "metadata": {},
   "outputs": [],
   "source": [
    "print(slice_arr[4:])"
   ]
  },
  {
   "cell_type": "code",
   "execution_count": null,
   "id": "fb3be981",
   "metadata": {},
   "outputs": [],
   "source": [
    "# Slice elements from the beginning to index 4 (not included)."
   ]
  },
  {
   "cell_type": "code",
   "execution_count": null,
   "id": "ee7afbf6",
   "metadata": {},
   "outputs": [],
   "source": [
    "print(slice_arr[:4])"
   ]
  },
  {
   "cell_type": "code",
   "execution_count": null,
   "id": "f0a7a623",
   "metadata": {},
   "outputs": [],
   "source": [
    "# Return every other element from index 1 to index 5"
   ]
  },
  {
   "cell_type": "code",
   "execution_count": null,
   "id": "cc66439e",
   "metadata": {},
   "outputs": [],
   "source": [
    "print(slice_arr[1:5:2])"
   ]
  },
  {
   "cell_type": "code",
   "execution_count": null,
   "id": "e6f22be2",
   "metadata": {},
   "outputs": [],
   "source": [
    "# Return every other element from the entire array"
   ]
  },
  {
   "cell_type": "code",
   "execution_count": null,
   "id": "5344b875",
   "metadata": {},
   "outputs": [],
   "source": [
    "print(slice_arr[::2])"
   ]
  },
  {
   "cell_type": "code",
   "execution_count": null,
   "id": "17714ed3",
   "metadata": {},
   "outputs": [],
   "source": [
    "#Reversed array\n",
    "slice_arr[::-1]"
   ]
  },
  {
   "cell_type": "markdown",
   "id": "c9902229",
   "metadata": {},
   "source": [
    "#### Slicing 2-D Arrays"
   ]
  },
  {
   "cell_type": "code",
   "execution_count": null,
   "id": "d482bc2b",
   "metadata": {},
   "outputs": [],
   "source": [
    "two_dim_arr = np.array([[1, 2, 3, 4, 5], [6, 7, 8, 9, 10]])"
   ]
  },
  {
   "cell_type": "code",
   "execution_count": null,
   "id": "cdc41b05",
   "metadata": {},
   "outputs": [],
   "source": [
    "# From the second element, slice elements from index 1 to index 4 (not included)\n",
    "# Remember that second element has index 1. "
   ]
  },
  {
   "cell_type": "code",
   "execution_count": null,
   "id": "e035a83a",
   "metadata": {},
   "outputs": [],
   "source": [
    "print(two_dim_arr[1, 1:4])"
   ]
  },
  {
   "cell_type": "code",
   "execution_count": null,
   "id": "a9e25fc3",
   "metadata": {},
   "outputs": [],
   "source": [
    "#From both elements, return index 2"
   ]
  },
  {
   "cell_type": "code",
   "execution_count": null,
   "id": "3c87d91b",
   "metadata": {},
   "outputs": [],
   "source": [
    "print(two_dim_arr[:, 2]) #or two_dim_arr[0:2, 2]"
   ]
  },
  {
   "cell_type": "code",
   "execution_count": null,
   "id": "0f3256fa",
   "metadata": {},
   "outputs": [],
   "source": [
    "#From both elements, slice index 1 to index 4 (not included), this will return a 2-D array"
   ]
  },
  {
   "cell_type": "code",
   "execution_count": null,
   "id": "859c5b85",
   "metadata": {},
   "outputs": [],
   "source": [
    "print(two_dim_arr[:, 1:4]) #or two_dim_arr[0:2, 1:4]"
   ]
  },
  {
   "cell_type": "markdown",
   "id": "0d070276",
   "metadata": {},
   "source": [
    "#### Shapes\n",
    "\n",
    "The shape of an array is the number of elements in each dimension.\n",
    "\n",
    "NumPy arrays have an attribute called shape that returns a tuple with each index having the number of corresponding elements."
   ]
  },
  {
   "cell_type": "code",
   "execution_count": null,
   "id": "8e91c616",
   "metadata": {},
   "outputs": [],
   "source": [
    "two_dim_arr"
   ]
  },
  {
   "cell_type": "code",
   "execution_count": null,
   "id": "4cfed6d1",
   "metadata": {},
   "outputs": [],
   "source": [
    "two_dim_arr.shape"
   ]
  },
  {
   "cell_type": "markdown",
   "id": "01bc035f",
   "metadata": {},
   "source": [
    "The example above returns (2, 5), which means that the array has 2 dimensions, where the first dimension has 2 elements and the second has 5."
   ]
  },
  {
   "cell_type": "code",
   "execution_count": null,
   "id": "9fd45aeb",
   "metadata": {},
   "outputs": [],
   "source": [
    "from IPython.display import Image\n",
    "from IPython.core.display import HTML \n",
    "Image(url= \"https://miro.medium.com/max/817/0*y04Nh3L0aSwyGaby.png\")"
   ]
  },
  {
   "cell_type": "markdown",
   "id": "708c4164",
   "metadata": {},
   "source": [
    "#### Reshaping arrays\n",
    "\n",
    "Reshaping means changing the shape of an array.\n",
    "\n",
    "The shape of an array is the number of elements in each dimension.\n",
    "\n",
    "By reshaping we can add or remove dimensions or change number of elements in each dimension."
   ]
  },
  {
   "cell_type": "code",
   "execution_count": null,
   "id": "55892ab0",
   "metadata": {},
   "outputs": [],
   "source": [
    "# Convert the following 1-D array with 12 elements into a 2-D array.\n",
    "\n",
    "# The outermost dimension will have 4 arrays, each with 3 elements."
   ]
  },
  {
   "cell_type": "code",
   "execution_count": null,
   "id": "6fff9be5",
   "metadata": {},
   "outputs": [],
   "source": [
    "test_reshape = np.array([1, 2, 3, 4, 5, 6, 7, 8, 9, 10, 11, 12])"
   ]
  },
  {
   "cell_type": "code",
   "execution_count": null,
   "id": "7e9a4664",
   "metadata": {},
   "outputs": [],
   "source": [
    "new_reshape = test_reshape.reshape(4, 3)\n",
    "print(new_reshape)"
   ]
  },
  {
   "cell_type": "code",
   "execution_count": null,
   "id": "e5d46938",
   "metadata": {},
   "outputs": [],
   "source": [
    "# Convert the following 1-D array with 12 elements into a 3-D array.\n",
    "\n",
    "# The outermost dimension will have 2 arrays that contains 3 arrays, each with 2 elements."
   ]
  },
  {
   "cell_type": "code",
   "execution_count": null,
   "id": "b3413d7c",
   "metadata": {},
   "outputs": [],
   "source": [
    "new_reshape = test_reshape.reshape(2, 3, 2)\n",
    "print(new_reshape)"
   ]
  },
  {
   "cell_type": "markdown",
   "id": "3c689f0f",
   "metadata": {},
   "source": [
    "#### Can We Reshape Into any Shape?\n",
    "\n",
    "Yes, as long as the elements required for reshaping are equal in both shapes.\n",
    "\n",
    "We can reshape an 8 elements 1D array into 4 elements in 2 rows 2D array. (4*2 = 8 elements).\n",
    "\n",
    "We cannot reshape it into a 3 elements 3 rows 2D array as that would require 3x3 = 9 elements."
   ]
  },
  {
   "cell_type": "markdown",
   "id": "04672eb1",
   "metadata": {},
   "source": [
    "#### Flattening the arrays\n",
    "\n",
    "Flattening array means converting a multidimensional array into a 1D array.\n",
    "\n",
    "We can use reshape(-1) to do this."
   ]
  },
  {
   "cell_type": "code",
   "execution_count": null,
   "id": "f6ce7f7b",
   "metadata": {},
   "outputs": [],
   "source": [
    "new_reshape = test_reshape.reshape(-1)\n",
    "print(new_reshape)"
   ]
  },
  {
   "cell_type": "markdown",
   "id": "0e0b0144",
   "metadata": {},
   "source": [
    "## Built-in Methods\n",
    "\n",
    "There are lots of built-in ways to generate Arrays."
   ]
  },
  {
   "cell_type": "markdown",
   "id": "733e29dd",
   "metadata": {},
   "source": [
    "#### arange(): Create an array of evenly spaced values (step value)"
   ]
  },
  {
   "cell_type": "code",
   "execution_count": null,
   "id": "43e12074",
   "metadata": {},
   "outputs": [],
   "source": [
    "np.arange(0,10) # [start (included), end (not included), step]"
   ]
  },
  {
   "cell_type": "code",
   "execution_count": null,
   "id": "3d7af17d",
   "metadata": {},
   "outputs": [],
   "source": [
    "np.arange(0,11,2)"
   ]
  },
  {
   "cell_type": "markdown",
   "id": "9571509f",
   "metadata": {},
   "source": [
    "#### zeros() and ones() : Generate arrays of zeros or ones"
   ]
  },
  {
   "cell_type": "code",
   "execution_count": null,
   "id": "8c605d49",
   "metadata": {},
   "outputs": [],
   "source": [
    "np.zeros(3) #Create an array of zeros 1D"
   ]
  },
  {
   "cell_type": "code",
   "execution_count": null,
   "id": "54ad4eb9",
   "metadata": {},
   "outputs": [],
   "source": [
    "np.zeros((3,4)) #Create an array of zeros 2D"
   ]
  },
  {
   "cell_type": "code",
   "execution_count": null,
   "id": "821bf836",
   "metadata": {},
   "outputs": [],
   "source": [
    "np.ones((2,3,4)) #Create an array of ones  2D"
   ]
  },
  {
   "cell_type": "code",
   "execution_count": null,
   "id": "602a29f8",
   "metadata": {},
   "outputs": [],
   "source": [
    "np.ones((2,3,4), dtype=\"i\") #Create an array of ones (integer). 2D"
   ]
  },
  {
   "cell_type": "markdown",
   "id": "8fbd13e4",
   "metadata": {},
   "source": [
    "i - integer \n",
    "\n",
    "b - boolean\n",
    "\n",
    "u - unsigned integer\n",
    "\n",
    "f - float\n",
    "\n",
    "c - complex float\n",
    "\n",
    "m - timedelta\n",
    "\n",
    "M - datetime\n",
    "\n",
    "O - object\n",
    "\n",
    "S - string\n",
    "\n",
    "U - unicode string\n",
    "\n",
    "V - fixed chunk of memory for other type ( void )"
   ]
  },
  {
   "cell_type": "markdown",
   "id": "6b0e8890",
   "metadata": {},
   "source": [
    "#### linspace() : Returns evenly spaced numbers over a specified interval."
   ]
  },
  {
   "cell_type": "code",
   "execution_count": null,
   "id": "1876e166",
   "metadata": {},
   "outputs": [],
   "source": [
    "np.linspace(0,10,3) #Create an array of evenlyspaced values (0 start(included), 10 end (included), 3 = number of samples)"
   ]
  },
  {
   "cell_type": "code",
   "execution_count": null,
   "id": "4a83ddb2",
   "metadata": {},
   "outputs": [],
   "source": [
    "np.linspace(0,10,50) #Create an array of evenlyspaced values (50 = number of samples)"
   ]
  },
  {
   "cell_type": "markdown",
   "id": "a885ac88",
   "metadata": {},
   "source": [
    "#### eye() : Creates an identity matrix\n",
    "\n",
    "In linear algebra, the identity matrix of size n, is the n*n square matrix\n",
    "with <b>ones on the main diagonal</b> and zeros elsewhere."
   ]
  },
  {
   "cell_type": "code",
   "execution_count": null,
   "id": "f445d70d",
   "metadata": {},
   "outputs": [],
   "source": [
    "np.eye(2) #Create a 2X2 identity matrix"
   ]
  },
  {
   "cell_type": "code",
   "execution_count": null,
   "id": "dab06c1f",
   "metadata": {},
   "outputs": [],
   "source": [
    "np.eye(4) #Create a 4X4 identity matrix"
   ]
  },
  {
   "cell_type": "markdown",
   "id": "d0ec659c",
   "metadata": {},
   "source": [
    "#### Random\n",
    "\n",
    "Numpy also has lots of ways to create random number arrays"
   ]
  },
  {
   "cell_type": "markdown",
   "id": "eac297aa",
   "metadata": {},
   "source": [
    "#### rand\n",
    "\n",
    "Create an array of the given shape and populate it with random samples from a <b>uniform distribution</b> over ``[0, 1]``."
   ]
  },
  {
   "cell_type": "code",
   "execution_count": null,
   "id": "746edc72",
   "metadata": {},
   "outputs": [],
   "source": [
    "np.random.rand(2) # 1D array of 2 random numbers."
   ]
  },
  {
   "cell_type": "code",
   "execution_count": null,
   "id": "d2512682",
   "metadata": {},
   "outputs": [],
   "source": [
    "np.random.rand(5,5) #2D array of 5 elements, having 5 random numbers."
   ]
  },
  {
   "cell_type": "markdown",
   "id": "c413f078",
   "metadata": {},
   "source": [
    "#### randn\n",
    "\n",
    "Return a sample (or samples) from the <b>standard normal distribution</b>. Unlike rand which is uniform.\n",
    "\n",
    "Tip: A normal distribution shows that it is more likely that numbers in the middle will occur than numbers at the end.\n",
    "\n",
    "A uniform distribution holds the same probability for the entire interval of numbers."
   ]
  },
  {
   "cell_type": "code",
   "execution_count": null,
   "id": "705d5b4a",
   "metadata": {},
   "outputs": [],
   "source": [
    "np.random.randn(2) # 1D array of 2 random numbers."
   ]
  },
  {
   "cell_type": "code",
   "execution_count": null,
   "id": "2297521b",
   "metadata": {},
   "outputs": [],
   "source": [
    "np.random.randn(5,5) #2D array of 5 elements, having 5 random numbers."
   ]
  },
  {
   "cell_type": "markdown",
   "id": "1b71656f",
   "metadata": {},
   "source": [
    "#### randint\n",
    "\n",
    "Return random integers from low (included) to high (excluded)."
   ]
  },
  {
   "cell_type": "code",
   "execution_count": 4,
   "id": "9812500d",
   "metadata": {},
   "outputs": [
    {
     "data": {
      "text/plain": [
       "54"
      ]
     },
     "execution_count": 4,
     "metadata": {},
     "output_type": "execute_result"
    }
   ],
   "source": [
    "np.random.randint(1,100)"
   ]
  },
  {
   "cell_type": "code",
   "execution_count": 5,
   "id": "3949187b",
   "metadata": {},
   "outputs": [
    {
     "data": {
      "text/plain": [
       "array([65, 15, 55,  9, 11, 44, 92, 33, 42, 43])"
      ]
     },
     "execution_count": 5,
     "metadata": {},
     "output_type": "execute_result"
    }
   ],
   "source": [
    "np.random.randint(1,100,10)"
   ]
  },
  {
   "cell_type": "markdown",
   "id": "d8616acf",
   "metadata": {},
   "source": [
    "### Array Attributes and Methods\n",
    "\n",
    "Let's discuss some useful attributes and methods or an array"
   ]
  },
  {
   "cell_type": "code",
   "execution_count": 6,
   "id": "fc7850f4",
   "metadata": {},
   "outputs": [],
   "source": [
    "attr_arr_1 = np.random.randint(0,50,10)\n",
    "attr_arr_2 = np.random.randint(0,50,10)"
   ]
  },
  {
   "cell_type": "markdown",
   "id": "c048241e",
   "metadata": {},
   "source": [
    "#### max,min,argmax,argmin\n",
    "\n",
    "These are useful methods for finding max or min values. Or to find their index locations using argmin or argmax"
   ]
  },
  {
   "cell_type": "code",
   "execution_count": null,
   "id": "1d4470e9",
   "metadata": {},
   "outputs": [],
   "source": [
    "attr_arr_1.max() # finds max element."
   ]
  },
  {
   "cell_type": "code",
   "execution_count": null,
   "id": "a1262c7d",
   "metadata": {},
   "outputs": [],
   "source": [
    "attr_arr_1.argmax() # finds index of max element."
   ]
  },
  {
   "cell_type": "code",
   "execution_count": null,
   "id": "b1ca97f6",
   "metadata": {},
   "outputs": [],
   "source": [
    "attr_arr_1.min()"
   ]
  },
  {
   "cell_type": "code",
   "execution_count": null,
   "id": "e0e66163",
   "metadata": {},
   "outputs": [],
   "source": [
    "attr_arr_1.argmin()"
   ]
  },
  {
   "cell_type": "markdown",
   "id": "3b41c95f",
   "metadata": {},
   "source": [
    "#### Selection\n",
    "\n",
    "Let's briefly go over how to use brackets for selection based off of comparison operators."
   ]
  },
  {
   "cell_type": "code",
   "execution_count": 7,
   "id": "8814c875",
   "metadata": {},
   "outputs": [
    {
     "data": {
      "text/plain": [
       "array([35, 39, 30, 33,  9,  1, 19, 36, 49, 39])"
      ]
     },
     "execution_count": 7,
     "metadata": {},
     "output_type": "execute_result"
    }
   ],
   "source": [
    "attr_arr_1"
   ]
  },
  {
   "cell_type": "code",
   "execution_count": null,
   "id": "56957585",
   "metadata": {},
   "outputs": [],
   "source": [
    "attr_arr_1 == attr_arr_1 #Elementwise comparison"
   ]
  },
  {
   "cell_type": "code",
   "execution_count": 8,
   "id": "6dd72f8f",
   "metadata": {},
   "outputs": [
    {
     "data": {
      "text/plain": [
       "array([ True,  True,  True,  True,  True, False,  True,  True,  True,\n",
       "        True])"
      ]
     },
     "execution_count": 8,
     "metadata": {},
     "output_type": "execute_result"
    }
   ],
   "source": [
    "attr_arr_1 > 8"
   ]
  },
  {
   "cell_type": "code",
   "execution_count": null,
   "id": "8bbfe02a",
   "metadata": {},
   "outputs": [],
   "source": [
    "attr_arr_1[attr_arr_1 > 10] # Keep elements bigger than 10."
   ]
  },
  {
   "cell_type": "code",
   "execution_count": null,
   "id": "0fdecbaf",
   "metadata": {},
   "outputs": [],
   "source": [
    "attr_arr_1"
   ]
  },
  {
   "cell_type": "markdown",
   "id": "d1cb5965",
   "metadata": {},
   "source": [
    "#### Arithmetic\n",
    "\n",
    "You can easily perform array with array arithmetic, or scalar with array arithmetic."
   ]
  },
  {
   "cell_type": "code",
   "execution_count": null,
   "id": "74e96fe1",
   "metadata": {},
   "outputs": [],
   "source": [
    "attr_arr_1 = np.random.randint(0,50,10)\n",
    "attr_arr_2 = np.random.randint(0,50,10)"
   ]
  },
  {
   "cell_type": "code",
   "execution_count": null,
   "id": "5b837031",
   "metadata": {},
   "outputs": [],
   "source": [
    "attr_arr_1"
   ]
  },
  {
   "cell_type": "code",
   "execution_count": null,
   "id": "ee6b53bb",
   "metadata": {},
   "outputs": [],
   "source": [
    "attr_arr_2"
   ]
  },
  {
   "cell_type": "code",
   "execution_count": null,
   "id": "8b614075",
   "metadata": {},
   "outputs": [],
   "source": [
    "attr_arr_1 + attr_arr_2 # Sum elements row-wise."
   ]
  },
  {
   "cell_type": "code",
   "execution_count": null,
   "id": "99285622",
   "metadata": {},
   "outputs": [],
   "source": [
    "attr_arr_1 * attr_arr_2 # multiplication"
   ]
  },
  {
   "cell_type": "code",
   "execution_count": null,
   "id": "2bbb3850",
   "metadata": {},
   "outputs": [],
   "source": [
    "attr_arr_1**3 # change all elements to their power of 3"
   ]
  },
  {
   "cell_type": "markdown",
   "id": "4e264be0",
   "metadata": {},
   "source": [
    "Numpy comes with many universal array functions, which are essentially just mathematical operations you can use to perform the operation across the array."
   ]
  },
  {
   "cell_type": "code",
   "execution_count": 9,
   "id": "0b58562c",
   "metadata": {},
   "outputs": [
    {
     "data": {
      "text/plain": [
       "array([5.91607978, 6.244998  , 5.47722558, 5.74456265, 3.        ,\n",
       "       1.        , 4.35889894, 6.        , 7.        , 6.244998  ])"
      ]
     },
     "execution_count": 9,
     "metadata": {},
     "output_type": "execute_result"
    }
   ],
   "source": [
    "#Taking Square Roots\n",
    "np.sqrt(attr_arr_1)"
   ]
  },
  {
   "cell_type": "code",
   "execution_count": null,
   "id": "61324bf9",
   "metadata": {},
   "outputs": [],
   "source": [
    "#Calcualting exponential (e^)\n",
    "np.exp(attr_arr_1)"
   ]
  },
  {
   "cell_type": "code",
   "execution_count": null,
   "id": "cf864ac3",
   "metadata": {},
   "outputs": [],
   "source": [
    "#Calcualting sines of an array\n",
    "np.sin(attr_arr_1) "
   ]
  },
  {
   "cell_type": "code",
   "execution_count": null,
   "id": "b7de735c",
   "metadata": {},
   "outputs": [],
   "source": [
    "#Elementwise cosine\n",
    "np.cos(attr_arr_1) "
   ]
  },
  {
   "cell_type": "code",
   "execution_count": null,
   "id": "175ae422",
   "metadata": {},
   "outputs": [],
   "source": [
    "#Elementwise natural logarithm\n",
    "np.log(attr_arr_1)"
   ]
  },
  {
   "cell_type": "code",
   "execution_count": null,
   "id": "779bbd52",
   "metadata": {},
   "outputs": [],
   "source": [
    "#Dot product \n",
    "attr_arr_1.dot(attr_arr_1)"
   ]
  },
  {
   "cell_type": "markdown",
   "id": "be9bd59c",
   "metadata": {},
   "source": [
    "### Joining NumPy Arrays\n",
    "\n",
    "Joining means putting contents of two or more arrays in a single array.\n",
    "\n",
    "In SQL we join tables based on a key, whereas in NumPy we join arrays by axes."
   ]
  },
  {
   "cell_type": "markdown",
   "id": "10ba2447",
   "metadata": {},
   "source": [
    "We pass a sequence of arrays that we want to join to the concatenate() function, along with the axis. \n",
    "\n",
    "If axis is not explicitly passed, it is taken as 0."
   ]
  },
  {
   "cell_type": "code",
   "execution_count": null,
   "id": "81c5ca0f",
   "metadata": {},
   "outputs": [],
   "source": [
    "attr_arr_1 = np.random.randint(0,50,10)\n",
    "attr_arr_2 = np.random.randint(0,50,10)"
   ]
  },
  {
   "cell_type": "code",
   "execution_count": null,
   "id": "74427753",
   "metadata": {},
   "outputs": [],
   "source": [
    "attr_arr_1"
   ]
  },
  {
   "cell_type": "code",
   "execution_count": null,
   "id": "1aa224b0",
   "metadata": {},
   "outputs": [],
   "source": [
    "attr_arr_2"
   ]
  },
  {
   "cell_type": "code",
   "execution_count": null,
   "id": "19be8f67",
   "metadata": {},
   "outputs": [],
   "source": [
    "np.concatenate((attr_arr_1, attr_arr_2)) # columns"
   ]
  },
  {
   "cell_type": "code",
   "execution_count": null,
   "id": "0d36181f",
   "metadata": {},
   "outputs": [],
   "source": [
    "np.concatenate((attr_arr_1, attr_arr_2), axis=1)"
   ]
  },
  {
   "cell_type": "code",
   "execution_count": null,
   "id": "1aea620f",
   "metadata": {},
   "outputs": [],
   "source": [
    "# Join two 2-D arrays along rows \n",
    "np.concatenate((attr_arr_1, attr_arr_2), axis=1)"
   ]
  },
  {
   "cell_type": "code",
   "execution_count": null,
   "id": "d8c0044b",
   "metadata": {},
   "outputs": [],
   "source": [
    "# Join two 2-D arrays along columns\n",
    "\n",
    "attr_arr_1 = np.array([[1, 2], [3, 4]])\n",
    "\n",
    "attr_arr_2 = np.array([[5, 6], [7, 8]])"
   ]
  },
  {
   "cell_type": "markdown",
   "id": "bc5506df",
   "metadata": {},
   "source": [
    "## Well done ! \n",
    "\n",
    "Now its time to test your skills."
   ]
  },
  {
   "cell_type": "markdown",
   "id": "4e678031",
   "metadata": {},
   "source": [
    "#### Import NumPy as np"
   ]
  },
  {
   "cell_type": "code",
   "execution_count": null,
   "id": "4713b3ba",
   "metadata": {},
   "outputs": [],
   "source": [
    "import numpy as np"
   ]
  },
  {
   "cell_type": "markdown",
   "id": "9747c509",
   "metadata": {},
   "source": [
    "#### Create an array of 10 zeros "
   ]
  },
  {
   "cell_type": "code",
   "execution_count": null,
   "id": "6f3e84e6",
   "metadata": {},
   "outputs": [],
   "source": [
    "np.zeros(10)"
   ]
  },
  {
   "cell_type": "markdown",
   "id": "b60ff0f7",
   "metadata": {},
   "source": [
    "#### Create an array of 10 ones"
   ]
  },
  {
   "cell_type": "code",
   "execution_count": null,
   "id": "a7dc7d8d",
   "metadata": {},
   "outputs": [],
   "source": [
    "np.ones(10)"
   ]
  },
  {
   "cell_type": "markdown",
   "id": "6e111965",
   "metadata": {},
   "source": [
    "#### Create an array of 10 fives"
   ]
  },
  {
   "cell_type": "code",
   "execution_count": null,
   "id": "9652228d",
   "metadata": {},
   "outputs": [],
   "source": [
    "np.ones(10) * 5"
   ]
  },
  {
   "cell_type": "markdown",
   "id": "b632b672",
   "metadata": {},
   "source": [
    "#### Create an array of the integers from 10 to 50"
   ]
  },
  {
   "cell_type": "code",
   "execution_count": null,
   "id": "7e13bdf2",
   "metadata": {},
   "outputs": [],
   "source": [
    "np.arange(10,51)"
   ]
  },
  {
   "cell_type": "markdown",
   "id": "a69e1949",
   "metadata": {},
   "source": [
    "#### Create an array of all the even integers from 10 to 50"
   ]
  },
  {
   "cell_type": "code",
   "execution_count": null,
   "id": "b31fffaa",
   "metadata": {},
   "outputs": [],
   "source": [
    "np.arange(10,51,2)"
   ]
  },
  {
   "cell_type": "markdown",
   "id": "8c8a69a0",
   "metadata": {},
   "source": [
    "#### Create a 3x3 matrix with values ranging from 0 to 8"
   ]
  },
  {
   "cell_type": "code",
   "execution_count": null,
   "id": "8a60b150",
   "metadata": {},
   "outputs": [],
   "source": [
    "np.arange(9).reshape(3,3)"
   ]
  },
  {
   "cell_type": "markdown",
   "id": "5f474c86",
   "metadata": {},
   "source": [
    "#### Create a 3x3 identity matrix"
   ]
  },
  {
   "cell_type": "code",
   "execution_count": null,
   "id": "37c670f9",
   "metadata": {},
   "outputs": [],
   "source": [
    "np.eye(3)"
   ]
  },
  {
   "cell_type": "markdown",
   "id": "26eee78a",
   "metadata": {},
   "source": [
    "#### Use NumPy to generate a random number between 0 and 1"
   ]
  },
  {
   "cell_type": "code",
   "execution_count": null,
   "id": "544ca7eb",
   "metadata": {},
   "outputs": [],
   "source": [
    "np.random.rand(1)"
   ]
  },
  {
   "cell_type": "markdown",
   "id": "8a52aaca",
   "metadata": {},
   "source": [
    "#### Use NumPy to generate an array of 10 random numbers sampled from a standard normal distribution"
   ]
  },
  {
   "cell_type": "code",
   "execution_count": null,
   "id": "161ae414",
   "metadata": {},
   "outputs": [],
   "source": [
    "np.random.randn(10)"
   ]
  },
  {
   "cell_type": "markdown",
   "id": "63cc7521",
   "metadata": {},
   "source": [
    "#### Create a 10X10 matrix with values ranging from 0.01 to 1."
   ]
  },
  {
   "cell_type": "code",
   "execution_count": null,
   "id": "bd996f50",
   "metadata": {},
   "outputs": [],
   "source": [
    "np.arange(1,101).reshape(10,10) / 100"
   ]
  },
  {
   "cell_type": "markdown",
   "id": "974b5196",
   "metadata": {},
   "source": [
    "#### Create an array of 10 linearly spaced points between 0 and 1"
   ]
  },
  {
   "cell_type": "code",
   "execution_count": null,
   "id": "bc026b5f",
   "metadata": {},
   "outputs": [],
   "source": [
    "np.linspace(0,1,10)"
   ]
  },
  {
   "cell_type": "markdown",
   "id": "d80c1f0b",
   "metadata": {},
   "source": [
    "## Numpy Indexing and Selection\n",
    "\n",
    "Given a matrice, replicate the resulting matrix outputs."
   ]
  },
  {
   "cell_type": "code",
   "execution_count": 5,
   "id": "94cf48e9",
   "metadata": {},
   "outputs": [
    {
     "data": {
      "text/plain": [
       "array([[ 1,  2,  3,  4,  5],\n",
       "       [ 6,  7,  8,  9, 10],\n",
       "       [11, 12, 13, 14, 15],\n",
       "       [16, 17, 18, 19, 20],\n",
       "       [21, 22, 23, 24, 25]])"
      ]
     },
     "execution_count": 5,
     "metadata": {},
     "output_type": "execute_result"
    }
   ],
   "source": [
    "test_mat = np.arange(1,26).reshape(5,5)\n",
    "test_mat"
   ]
  },
  {
   "cell_type": "code",
   "execution_count": 2,
   "id": "bf47c617",
   "metadata": {},
   "outputs": [
    {
     "ename": "NameError",
     "evalue": "name 'test_mat' is not defined",
     "output_type": "error",
     "traceback": [
      "\u001b[1;31m---------------------------------------------------------------------------\u001b[0m",
      "\u001b[1;31mNameError\u001b[0m                                 Traceback (most recent call last)",
      "Cell \u001b[1;32mIn [2], line 2\u001b[0m\n\u001b[0;32m      1\u001b[0m \u001b[38;5;66;03m# WRITE CODE HERE THAT REPRODUCES THE OUTPUT OF THE CELL BELOW\u001b[39;00m\n\u001b[1;32m----> 2\u001b[0m \u001b[43mtest_mat\u001b[49m[\u001b[38;5;241m2\u001b[39m:,\u001b[38;5;241m1\u001b[39m:]\n",
      "\u001b[1;31mNameError\u001b[0m: name 'test_mat' is not defined"
     ]
    }
   ],
   "source": [
    "# WRITE CODE HERE THAT REPRODUCES THE OUTPUT OF THE CELL BELOW\n",
    "test_mat[2:,1:]"
   ]
  },
  {
   "cell_type": "code",
   "execution_count": null,
   "id": "4279f476",
   "metadata": {},
   "outputs": [],
   "source": [
    "test_mat[3,4]"
   ]
  },
  {
   "cell_type": "code",
   "execution_count": null,
   "id": "c9347f8f",
   "metadata": {},
   "outputs": [],
   "source": [
    "test_mat[:3,1:2]"
   ]
  },
  {
   "cell_type": "code",
   "execution_count": null,
   "id": "827e846f",
   "metadata": {},
   "outputs": [],
   "source": [
    "test_mat[4,:]"
   ]
  },
  {
   "cell_type": "code",
   "execution_count": null,
   "id": "6f689af6",
   "metadata": {},
   "outputs": [],
   "source": [
    "test_mat[3:5,:]"
   ]
  },
  {
   "cell_type": "code",
   "execution_count": null,
   "id": "cb4626e4",
   "metadata": {},
   "outputs": [],
   "source": [
    "test_mat[:, ::-1]"
   ]
  },
  {
   "cell_type": "markdown",
   "id": "975b08bd",
   "metadata": {},
   "source": [
    "#### Get the sum of all the values in mat"
   ]
  },
  {
   "cell_type": "code",
   "execution_count": null,
   "id": "f70c582a",
   "metadata": {},
   "outputs": [],
   "source": [
    "test_mat.sum()"
   ]
  },
  {
   "cell_type": "markdown",
   "id": "5d1ab13c",
   "metadata": {},
   "source": [
    "#### Get the standard deviation of the values in mat"
   ]
  },
  {
   "cell_type": "code",
   "execution_count": null,
   "id": "6b9f7c9e",
   "metadata": {},
   "outputs": [],
   "source": [
    "test_mat.std()"
   ]
  },
  {
   "cell_type": "markdown",
   "id": "2d4f415e",
   "metadata": {},
   "source": [
    "#### Get the sum of all the columns in mat"
   ]
  },
  {
   "cell_type": "code",
   "execution_count": null,
   "id": "3e6daf65",
   "metadata": {},
   "outputs": [],
   "source": [
    "test_mat.sum(axis=0)"
   ]
  },
  {
   "cell_type": "markdown",
   "id": "303bef8d",
   "metadata": {},
   "source": [
    "## Thats It !"
   ]
  },
  {
   "cell_type": "code",
   "execution_count": null,
   "id": "999d714d",
   "metadata": {},
   "outputs": [],
   "source": []
  }
 ],
 "metadata": {
  "kernelspec": {
   "display_name": "Python 3 (ipykernel)",
   "language": "python",
   "name": "python3"
  },
  "language_info": {
   "codemirror_mode": {
    "name": "ipython",
    "version": 3
   },
   "file_extension": ".py",
   "mimetype": "text/x-python",
   "name": "python",
   "nbconvert_exporter": "python",
   "pygments_lexer": "ipython3",
   "version": "3.9.12"
  }
 },
 "nbformat": 4,
 "nbformat_minor": 5
}
